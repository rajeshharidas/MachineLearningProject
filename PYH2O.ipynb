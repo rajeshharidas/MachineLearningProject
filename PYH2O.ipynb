{
 "cells": [
  {
   "cell_type": "code",
   "execution_count": 2,
   "id": "c9b9184d",
   "metadata": {},
   "outputs": [],
   "source": [
    "v = [-200,100,50,20]"
   ]
  },
  {
   "cell_type": "code",
   "execution_count": 3,
   "id": "e609cff9",
   "metadata": {},
   "outputs": [
    {
     "data": {
      "text/plain": [
       "-200"
      ]
     },
     "execution_count": 3,
     "metadata": {},
     "output_type": "execute_result"
    }
   ],
   "source": [
    "min(v)"
   ]
  },
  {
   "cell_type": "code",
   "execution_count": 4,
   "id": "58833b48",
   "metadata": {},
   "outputs": [
    {
     "data": {
      "text/plain": [
       "100"
      ]
     },
     "execution_count": 4,
     "metadata": {},
     "output_type": "execute_result"
    }
   ],
   "source": [
    "max(v)"
   ]
  },
  {
   "cell_type": "code",
   "execution_count": 7,
   "id": "f00d1e7d",
   "metadata": {},
   "outputs": [
    {
     "data": {
      "text/plain": [
       "20"
      ]
     },
     "execution_count": 7,
     "metadata": {},
     "output_type": "execute_result"
    }
   ],
   "source": [
    "v[-1]"
   ]
  },
  {
   "cell_type": "code",
   "execution_count": 10,
   "id": "cb0f61dd",
   "metadata": {},
   "outputs": [
    {
     "data": {
      "text/plain": [
       "2"
      ]
     },
     "execution_count": 10,
     "metadata": {},
     "output_type": "execute_result"
    }
   ],
   "source": [
    "v.index(50)"
   ]
  },
  {
   "cell_type": "code",
   "execution_count": 11,
   "id": "414866f3",
   "metadata": {},
   "outputs": [
    {
     "data": {
      "text/plain": [
       "[(0, -200), (1, 100), (2, 50), (3, 20)]"
      ]
     },
     "execution_count": 11,
     "metadata": {},
     "output_type": "execute_result"
    }
   ],
   "source": [
    "list(enumerate(v))"
   ]
  },
  {
   "cell_type": "code",
   "execution_count": null,
   "id": "118ba773",
   "metadata": {},
   "outputs": [],
   "source": []
  }
 ],
 "metadata": {
  "kernelspec": {
   "display_name": "Python 3 (ipykernel)",
   "language": "python",
   "name": "python3"
  },
  "language_info": {
   "codemirror_mode": {
    "name": "ipython",
    "version": 3
   },
   "file_extension": ".py",
   "mimetype": "text/x-python",
   "name": "python",
   "nbconvert_exporter": "python",
   "pygments_lexer": "ipython3",
   "version": "3.9.7"
  }
 },
 "nbformat": 4,
 "nbformat_minor": 5
}
