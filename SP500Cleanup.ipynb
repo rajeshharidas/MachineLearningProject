{
 "cells": [
  {
   "cell_type": "code",
   "execution_count": 179,
   "id": "e206d995",
   "metadata": {},
   "outputs": [],
   "source": [
    "import pandas as pd\n",
    "import numpy as np\n",
    "import matplotlib.pyplot as plt\n",
    "plt.style.use(\"seaborn\")"
   ]
  },
  {
   "cell_type": "code",
   "execution_count": 180,
   "id": "a2571c44",
   "metadata": {},
   "outputs": [],
   "source": [
    "def convert_money(value):\n",
    "       value = value.replace(',', '')\n",
    "       return float(value)"
   ]
  },
  {
   "cell_type": "code",
   "execution_count": 181,
   "id": "1615ad47",
   "metadata": {},
   "outputs": [],
   "source": [
    "data = pd.read_csv(\"SP5002018.csv\", parse_dates = [\"Date\"], index_col = \"Date\")"
   ]
  },
  {
   "cell_type": "code",
   "execution_count": 182,
   "id": "1a28a661",
   "metadata": {},
   "outputs": [],
   "source": [
    "data = data.drop(columns=['Open', 'High','Low'])"
   ]
  },
  {
   "cell_type": "code",
   "execution_count": 183,
   "id": "eb84e97f",
   "metadata": {},
   "outputs": [],
   "source": [
    "data['Close'] = data['Close'].apply(convert_money)"
   ]
  },
  {
   "cell_type": "code",
   "execution_count": 184,
   "id": "72087123",
   "metadata": {},
   "outputs": [],
   "source": [
    "data[\"shift\"] =data.div(data.shift(1))"
   ]
  },
  {
   "cell_type": "code",
   "execution_count": 185,
   "id": "a48c121f",
   "metadata": {},
   "outputs": [],
   "source": [
    "data[\"returns\"] = np.log(data[\"shift\"])"
   ]
  },
  {
   "cell_type": "code",
   "execution_count": 186,
   "id": "d60887e1",
   "metadata": {},
   "outputs": [],
   "source": [
    "data.dropna(inplace = True)"
   ]
  },
  {
   "cell_type": "code",
   "execution_count": 187,
   "id": "d0379836",
   "metadata": {},
   "outputs": [],
   "source": [
    "SMA = 30"
   ]
  },
  {
   "cell_type": "code",
   "execution_count": 188,
   "id": "6cf095e0",
   "metadata": {},
   "outputs": [],
   "source": [
    "data[\"SMA\"] = data[\"Close\"].rolling(SMA).mean()"
   ]
  },
  {
   "cell_type": "code",
   "execution_count": 189,
   "id": "c35970f2",
   "metadata": {},
   "outputs": [],
   "source": [
    "data[\"Lower\"] = data[\"SMA\"] - data[\"Close\"].rolling(SMA).std() * 2"
   ]
  },
  {
   "cell_type": "code",
   "execution_count": 190,
   "id": "76003f0f",
   "metadata": {},
   "outputs": [],
   "source": [
    "data[\"Upper\"] = data[\"SMA\"] + data[\"Close\"].rolling(SMA).std() * 2"
   ]
  },
  {
   "cell_type": "code",
   "execution_count": 191,
   "id": "f310f763",
   "metadata": {},
   "outputs": [],
   "source": [
    "data.dropna(inplace = True)"
   ]
  },
  {
   "cell_type": "code",
   "execution_count": 192,
   "id": "a712ef3a",
   "metadata": {},
   "outputs": [],
   "source": [
    "data[\"distance\"] = data.Close - data.SMA # helper Column"
   ]
  },
  {
   "cell_type": "code",
   "execution_count": 193,
   "id": "f6fd61ee",
   "metadata": {},
   "outputs": [],
   "source": [
    "data[\"position\"] = np.where(data.Close < data.Lower, 1, np.nan) # 1. oversold -> go long"
   ]
  },
  {
   "cell_type": "code",
   "execution_count": 194,
   "id": "f50e05ff",
   "metadata": {},
   "outputs": [],
   "source": [
    "data[\"position\"] = np.where(data.Close > data.Upper, -1, data[\"position\"]) # 2. overbought -> go short"
   ]
  },
  {
   "cell_type": "code",
   "execution_count": 195,
   "id": "ca7272a9",
   "metadata": {},
   "outputs": [],
   "source": [
    "data[\"position\"] = np.where(data.distance * data.distance.shift(1) < 0, 0, data[\"position\"])"
   ]
  },
  {
   "cell_type": "code",
   "execution_count": 196,
   "id": "179d00ff",
   "metadata": {},
   "outputs": [],
   "source": [
    "data[\"position\"] = data.position.ffill().fillna(0) # where 1-3 isn´t applicable -> hold previous position"
   ]
  },
  {
   "cell_type": "code",
   "execution_count": 197,
   "id": "2ed0de02",
   "metadata": {},
   "outputs": [],
   "source": [
    "data[\"strategy\"] = data.position.shift(1) * data[\"returns\"]"
   ]
  },
  {
   "cell_type": "code",
   "execution_count": 198,
   "id": "cf447310",
   "metadata": {},
   "outputs": [],
   "source": [
    "data.dropna(inplace = True)"
   ]
  },
  {
   "cell_type": "code",
   "execution_count": 199,
   "id": "bea56347",
   "metadata": {},
   "outputs": [],
   "source": [
    "data[\"creturns\"] = data[\"returns\"].cumsum().apply(np.exp)\n",
    "data[\"cstrategy\"] = data[\"strategy\"].cumsum().apply(np.exp)"
   ]
  },
  {
   "cell_type": "code",
   "execution_count": 200,
   "id": "ac7e84eb",
   "metadata": {},
   "outputs": [],
   "source": [
    "data[\"trades\"] = data.position.diff().fillna(0).abs()"
   ]
  },
  {
   "cell_type": "code",
   "execution_count": 201,
   "id": "7ca912eb",
   "metadata": {},
   "outputs": [],
   "source": [
    "data.to_csv(\"SP5002018CLEAN.csv\",index=False)"
   ]
  },
  {
   "cell_type": "code",
   "execution_count": 202,
   "id": "f10797f6",
   "metadata": {},
   "outputs": [
    {
     "data": {
      "text/plain": [
       " 0.0    102\n",
       " 1.0     70\n",
       "-1.0     48\n",
       "Name: position, dtype: int64"
      ]
     },
     "execution_count": 202,
     "metadata": {},
     "output_type": "execute_result"
    }
   ],
   "source": [
    "data.position.value_counts()"
   ]
  },
  {
   "cell_type": "code",
   "execution_count": 203,
   "id": "3189f521",
   "metadata": {},
   "outputs": [
    {
     "data": {
      "text/plain": [
       "0.0    206\n",
       "1.0     14\n",
       "Name: trades, dtype: int64"
      ]
     },
     "execution_count": 203,
     "metadata": {},
     "output_type": "execute_result"
    }
   ],
   "source": [
    "data.trades.value_counts()"
   ]
  },
  {
   "cell_type": "code",
   "execution_count": 204,
   "id": "701dbb8a",
   "metadata": {},
   "outputs": [
    {
     "data": {
      "text/html": [
       "<div>\n",
       "<style scoped>\n",
       "    .dataframe tbody tr th:only-of-type {\n",
       "        vertical-align: middle;\n",
       "    }\n",
       "\n",
       "    .dataframe tbody tr th {\n",
       "        vertical-align: top;\n",
       "    }\n",
       "\n",
       "    .dataframe thead th {\n",
       "        text-align: right;\n",
       "    }\n",
       "</style>\n",
       "<table border=\"1\" class=\"dataframe\">\n",
       "  <thead>\n",
       "    <tr style=\"text-align: right;\">\n",
       "      <th></th>\n",
       "      <th>Close</th>\n",
       "      <th>shift</th>\n",
       "      <th>returns</th>\n",
       "      <th>SMA</th>\n",
       "      <th>Lower</th>\n",
       "      <th>Upper</th>\n",
       "      <th>distance</th>\n",
       "      <th>position</th>\n",
       "      <th>strategy</th>\n",
       "      <th>creturns</th>\n",
       "      <th>cstrategy</th>\n",
       "      <th>trades</th>\n",
       "    </tr>\n",
       "    <tr>\n",
       "      <th>Date</th>\n",
       "      <th></th>\n",
       "      <th></th>\n",
       "      <th></th>\n",
       "      <th></th>\n",
       "      <th></th>\n",
       "      <th></th>\n",
       "      <th></th>\n",
       "      <th></th>\n",
       "      <th></th>\n",
       "      <th></th>\n",
       "      <th></th>\n",
       "      <th></th>\n",
       "    </tr>\n",
       "  </thead>\n",
       "  <tbody>\n",
       "    <tr>\n",
       "      <th>2018-11-13</th>\n",
       "      <td>2722.18</td>\n",
       "      <td>1.007625</td>\n",
       "      <td>0.007596</td>\n",
       "      <td>2629.631000</td>\n",
       "      <td>2410.727570</td>\n",
       "      <td>2848.534430</td>\n",
       "      <td>92.549000</td>\n",
       "      <td>0.0</td>\n",
       "      <td>0.0</td>\n",
       "      <td>1.007625</td>\n",
       "      <td>1.000000</td>\n",
       "      <td>0.0</td>\n",
       "    </tr>\n",
       "    <tr>\n",
       "      <th>2018-11-12</th>\n",
       "      <td>2726.22</td>\n",
       "      <td>1.001484</td>\n",
       "      <td>0.001483</td>\n",
       "      <td>2637.544000</td>\n",
       "      <td>2422.574330</td>\n",
       "      <td>2852.513670</td>\n",
       "      <td>88.676000</td>\n",
       "      <td>0.0</td>\n",
       "      <td>0.0</td>\n",
       "      <td>1.009121</td>\n",
       "      <td>1.000000</td>\n",
       "      <td>0.0</td>\n",
       "    </tr>\n",
       "    <tr>\n",
       "      <th>2018-11-09</th>\n",
       "      <td>2781.01</td>\n",
       "      <td>1.020097</td>\n",
       "      <td>0.019898</td>\n",
       "      <td>2647.987667</td>\n",
       "      <td>2436.751532</td>\n",
       "      <td>2859.223801</td>\n",
       "      <td>133.022333</td>\n",
       "      <td>0.0</td>\n",
       "      <td>0.0</td>\n",
       "      <td>1.029401</td>\n",
       "      <td>1.000000</td>\n",
       "      <td>0.0</td>\n",
       "    </tr>\n",
       "    <tr>\n",
       "      <th>2018-11-08</th>\n",
       "      <td>2806.83</td>\n",
       "      <td>1.009284</td>\n",
       "      <td>0.009242</td>\n",
       "      <td>2663.178667</td>\n",
       "      <td>2476.126871</td>\n",
       "      <td>2850.230462</td>\n",
       "      <td>143.651333</td>\n",
       "      <td>0.0</td>\n",
       "      <td>0.0</td>\n",
       "      <td>1.038959</td>\n",
       "      <td>1.000000</td>\n",
       "      <td>0.0</td>\n",
       "    </tr>\n",
       "    <tr>\n",
       "      <th>2018-11-07</th>\n",
       "      <td>2813.89</td>\n",
       "      <td>1.002515</td>\n",
       "      <td>0.002512</td>\n",
       "      <td>2676.421000</td>\n",
       "      <td>2506.095688</td>\n",
       "      <td>2846.746312</td>\n",
       "      <td>137.469000</td>\n",
       "      <td>0.0</td>\n",
       "      <td>0.0</td>\n",
       "      <td>1.041572</td>\n",
       "      <td>1.000000</td>\n",
       "      <td>0.0</td>\n",
       "    </tr>\n",
       "    <tr>\n",
       "      <th>...</th>\n",
       "      <td>...</td>\n",
       "      <td>...</td>\n",
       "      <td>...</td>\n",
       "      <td>...</td>\n",
       "      <td>...</td>\n",
       "      <td>...</td>\n",
       "      <td>...</td>\n",
       "      <td>...</td>\n",
       "      <td>...</td>\n",
       "      <td>...</td>\n",
       "      <td>...</td>\n",
       "      <td>...</td>\n",
       "    </tr>\n",
       "    <tr>\n",
       "      <th>2018-01-08</th>\n",
       "      <td>2747.71</td>\n",
       "      <td>0.998699</td>\n",
       "      <td>-0.001302</td>\n",
       "      <td>2757.250667</td>\n",
       "      <td>2605.895203</td>\n",
       "      <td>2908.606130</td>\n",
       "      <td>-9.540667</td>\n",
       "      <td>0.0</td>\n",
       "      <td>-0.0</td>\n",
       "      <td>1.017075</td>\n",
       "      <td>1.127057</td>\n",
       "      <td>0.0</td>\n",
       "    </tr>\n",
       "    <tr>\n",
       "      <th>2018-01-05</th>\n",
       "      <td>2743.15</td>\n",
       "      <td>0.998340</td>\n",
       "      <td>-0.001661</td>\n",
       "      <td>2758.147000</td>\n",
       "      <td>2607.479087</td>\n",
       "      <td>2908.814913</td>\n",
       "      <td>-14.997000</td>\n",
       "      <td>0.0</td>\n",
       "      <td>-0.0</td>\n",
       "      <td>1.015387</td>\n",
       "      <td>1.127057</td>\n",
       "      <td>0.0</td>\n",
       "    </tr>\n",
       "    <tr>\n",
       "      <th>2018-01-04</th>\n",
       "      <td>2723.99</td>\n",
       "      <td>0.993015</td>\n",
       "      <td>-0.007009</td>\n",
       "      <td>2757.872667</td>\n",
       "      <td>2606.979611</td>\n",
       "      <td>2908.765723</td>\n",
       "      <td>-33.882667</td>\n",
       "      <td>0.0</td>\n",
       "      <td>-0.0</td>\n",
       "      <td>1.008295</td>\n",
       "      <td>1.127057</td>\n",
       "      <td>0.0</td>\n",
       "    </tr>\n",
       "    <tr>\n",
       "      <th>2018-01-03</th>\n",
       "      <td>2713.06</td>\n",
       "      <td>0.995988</td>\n",
       "      <td>-0.004021</td>\n",
       "      <td>2757.268000</td>\n",
       "      <td>2605.788422</td>\n",
       "      <td>2908.747578</td>\n",
       "      <td>-44.208000</td>\n",
       "      <td>0.0</td>\n",
       "      <td>-0.0</td>\n",
       "      <td>1.004249</td>\n",
       "      <td>1.127057</td>\n",
       "      <td>0.0</td>\n",
       "    </tr>\n",
       "    <tr>\n",
       "      <th>2018-01-02</th>\n",
       "      <td>2695.81</td>\n",
       "      <td>0.993642</td>\n",
       "      <td>-0.006378</td>\n",
       "      <td>2757.174000</td>\n",
       "      <td>2605.540431</td>\n",
       "      <td>2908.807569</td>\n",
       "      <td>-61.364000</td>\n",
       "      <td>0.0</td>\n",
       "      <td>-0.0</td>\n",
       "      <td>0.997864</td>\n",
       "      <td>1.127057</td>\n",
       "      <td>0.0</td>\n",
       "    </tr>\n",
       "  </tbody>\n",
       "</table>\n",
       "<p>220 rows × 12 columns</p>\n",
       "</div>"
      ],
      "text/plain": [
       "              Close     shift   returns          SMA        Lower  \\\n",
       "Date                                                                \n",
       "2018-11-13  2722.18  1.007625  0.007596  2629.631000  2410.727570   \n",
       "2018-11-12  2726.22  1.001484  0.001483  2637.544000  2422.574330   \n",
       "2018-11-09  2781.01  1.020097  0.019898  2647.987667  2436.751532   \n",
       "2018-11-08  2806.83  1.009284  0.009242  2663.178667  2476.126871   \n",
       "2018-11-07  2813.89  1.002515  0.002512  2676.421000  2506.095688   \n",
       "...             ...       ...       ...          ...          ...   \n",
       "2018-01-08  2747.71  0.998699 -0.001302  2757.250667  2605.895203   \n",
       "2018-01-05  2743.15  0.998340 -0.001661  2758.147000  2607.479087   \n",
       "2018-01-04  2723.99  0.993015 -0.007009  2757.872667  2606.979611   \n",
       "2018-01-03  2713.06  0.995988 -0.004021  2757.268000  2605.788422   \n",
       "2018-01-02  2695.81  0.993642 -0.006378  2757.174000  2605.540431   \n",
       "\n",
       "                  Upper    distance  position  strategy  creturns  cstrategy  \\\n",
       "Date                                                                           \n",
       "2018-11-13  2848.534430   92.549000       0.0       0.0  1.007625   1.000000   \n",
       "2018-11-12  2852.513670   88.676000       0.0       0.0  1.009121   1.000000   \n",
       "2018-11-09  2859.223801  133.022333       0.0       0.0  1.029401   1.000000   \n",
       "2018-11-08  2850.230462  143.651333       0.0       0.0  1.038959   1.000000   \n",
       "2018-11-07  2846.746312  137.469000       0.0       0.0  1.041572   1.000000   \n",
       "...                 ...         ...       ...       ...       ...        ...   \n",
       "2018-01-08  2908.606130   -9.540667       0.0      -0.0  1.017075   1.127057   \n",
       "2018-01-05  2908.814913  -14.997000       0.0      -0.0  1.015387   1.127057   \n",
       "2018-01-04  2908.765723  -33.882667       0.0      -0.0  1.008295   1.127057   \n",
       "2018-01-03  2908.747578  -44.208000       0.0      -0.0  1.004249   1.127057   \n",
       "2018-01-02  2908.807569  -61.364000       0.0      -0.0  0.997864   1.127057   \n",
       "\n",
       "            trades  \n",
       "Date                \n",
       "2018-11-13     0.0  \n",
       "2018-11-12     0.0  \n",
       "2018-11-09     0.0  \n",
       "2018-11-08     0.0  \n",
       "2018-11-07     0.0  \n",
       "...            ...  \n",
       "2018-01-08     0.0  \n",
       "2018-01-05     0.0  \n",
       "2018-01-04     0.0  \n",
       "2018-01-03     0.0  \n",
       "2018-01-02     0.0  \n",
       "\n",
       "[220 rows x 12 columns]"
      ]
     },
     "execution_count": 204,
     "metadata": {},
     "output_type": "execute_result"
    }
   ],
   "source": [
    "data"
   ]
  },
  {
   "cell_type": "code",
   "execution_count": null,
   "id": "8c067d9d",
   "metadata": {},
   "outputs": [],
   "source": []
  },
  {
   "cell_type": "code",
   "execution_count": null,
   "id": "23e0124e",
   "metadata": {},
   "outputs": [],
   "source": []
  }
 ],
 "metadata": {
  "kernelspec": {
   "display_name": "Python 3 (ipykernel)",
   "language": "python",
   "name": "python3"
  },
  "language_info": {
   "codemirror_mode": {
    "name": "ipython",
    "version": 3
   },
   "file_extension": ".py",
   "mimetype": "text/x-python",
   "name": "python",
   "nbconvert_exporter": "python",
   "pygments_lexer": "ipython3",
   "version": "3.9.7"
  }
 },
 "nbformat": 4,
 "nbformat_minor": 5
}
