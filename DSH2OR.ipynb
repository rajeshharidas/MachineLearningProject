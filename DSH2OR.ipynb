{
 "cells": [
  {
   "cell_type": "code",
   "execution_count": 4,
   "id": "3a1f54bb",
   "metadata": {},
   "outputs": [],
   "source": [
    "library(h2o)"
   ]
  },
  {
   "cell_type": "code",
   "execution_count": 5,
   "id": "4cb82c3e",
   "metadata": {},
   "outputs": [
    {
     "name": "stdout",
     "output_type": "stream",
     "text": [
      "\n",
      "H2O is not running yet, starting it now...\n",
      "\n",
      "Note:  In case of errors look at the following log files:\n",
      "    /tmp/RtmpEz9my2/file2ae26f18896/h2o_UnknownUser_started_from_r.out\n",
      "    /tmp/RtmpEz9my2/file2ae62d9139c/h2o_UnknownUser_started_from_r.err\n",
      "\n",
      "\n",
      "Starting H2O JVM and connecting: ........ Connection successful!\n",
      "\n",
      "R is connected to the H2O cluster: \n",
      "    H2O cluster uptime:         8 seconds 68 milliseconds \n",
      "    H2O cluster timezone:       Etc/UTC \n",
      "    H2O data parsing timezone:  UTC \n",
      "    H2O cluster version:        3.34.0.6 \n",
      "    H2O cluster version age:    4 days  \n",
      "    H2O cluster name:           H2O_started_from_R_jovyan_jvi130 \n",
      "    H2O cluster total nodes:    1 \n",
      "    H2O cluster total memory:   1.49 GB \n",
      "    H2O cluster total cores:    4 \n",
      "    H2O cluster allowed cores:  4 \n",
      "    H2O cluster healthy:        TRUE \n",
      "    H2O Connection ip:          localhost \n",
      "    H2O Connection port:        54321 \n",
      "    H2O Connection proxy:       NA \n",
      "    H2O Internal Security:      FALSE \n",
      "    H2O API Extensions:         Amazon S3, XGBoost, Algos, AutoML, Core V3, TargetEncoder, Core V4 \n",
      "    R Version:                  R version 4.1.2 (2021-11-01) \n",
      "\n"
     ]
    }
   ],
   "source": [
    "h2o.init()"
   ]
  },
  {
   "cell_type": "code",
   "execution_count": 8,
   "id": "22b8f664",
   "metadata": {},
   "outputs": [
    {
     "name": "stdout",
     "output_type": "stream",
     "text": [
      "Version: 3.34.0.6 \n",
      "Cluster name: H2O_started_from_R_jovyan_jvi130 \n",
      "Cluster size: 1 \n",
      "Cluster is locked\n",
      "\n"
     ]
    },
    {
     "data": {
      "text/html": [
       "<table class=\"dataframe\">\n",
       "<caption>A data.frame: 1 × 16</caption>\n",
       "<thead>\n",
       "\t<tr><th scope=col>h2o</th><th scope=col>healthy</th><th scope=col>last_ping</th><th scope=col>num_cpus</th><th scope=col>sys_load</th><th scope=col>mem_value_size</th><th scope=col>free_mem</th><th scope=col>pojo_mem</th><th scope=col>swap_mem</th><th scope=col>free_disk</th><th scope=col>max_disk</th><th scope=col>pid</th><th scope=col>num_keys</th><th scope=col>tcps_active</th><th scope=col>open_fds</th><th scope=col>rpcs_active</th></tr>\n",
       "\t<tr><th scope=col>&lt;named list&gt;</th><th scope=col>&lt;named list&gt;</th><th scope=col>&lt;named list&gt;</th><th scope=col>&lt;named list&gt;</th><th scope=col>&lt;named list&gt;</th><th scope=col>&lt;named list&gt;</th><th scope=col>&lt;named list&gt;</th><th scope=col>&lt;named list&gt;</th><th scope=col>&lt;named list&gt;</th><th scope=col>&lt;named list&gt;</th><th scope=col>&lt;named list&gt;</th><th scope=col>&lt;named list&gt;</th><th scope=col>&lt;named list&gt;</th><th scope=col>&lt;named list&gt;</th><th scope=col>&lt;named list&gt;</th><th scope=col>&lt;named list&gt;</th></tr>\n",
       "</thead>\n",
       "<tbody>\n",
       "\t<tr><td>localhost/127.0.0.1:54321</td><td>TRUE</td><td>1.639965e+12</td><td>4</td><td>2.5</td><td>0</td><td>1597408720</td><td>9534000</td><td>0</td><td>140055150592</td><td>210303451136</td><td>6082</td><td>0</td><td>0</td><td>40</td><td>0</td></tr>\n",
       "</tbody>\n",
       "</table>\n"
      ],
      "text/latex": [
       "A data.frame: 1 × 16\n",
       "\\begin{tabular}{llllllllllllllll}\n",
       " h2o & healthy & last\\_ping & num\\_cpus & sys\\_load & mem\\_value\\_size & free\\_mem & pojo\\_mem & swap\\_mem & free\\_disk & max\\_disk & pid & num\\_keys & tcps\\_active & open\\_fds & rpcs\\_active\\\\\n",
       " <named list> & <named list> & <named list> & <named list> & <named list> & <named list> & <named list> & <named list> & <named list> & <named list> & <named list> & <named list> & <named list> & <named list> & <named list> & <named list>\\\\\n",
       "\\hline\n",
       "\t localhost/127.0.0.1:54321 & TRUE & 1.639965e+12 & 4 & 2.5 & 0 & 1597408720 & 9534000 & 0 & 140055150592 & 210303451136 & 6082 & 0 & 0 & 40 & 0\\\\\n",
       "\\end{tabular}\n"
      ],
      "text/markdown": [
       "\n",
       "A data.frame: 1 × 16\n",
       "\n",
       "| h2o &lt;named list&gt; | healthy &lt;named list&gt; | last_ping &lt;named list&gt; | num_cpus &lt;named list&gt; | sys_load &lt;named list&gt; | mem_value_size &lt;named list&gt; | free_mem &lt;named list&gt; | pojo_mem &lt;named list&gt; | swap_mem &lt;named list&gt; | free_disk &lt;named list&gt; | max_disk &lt;named list&gt; | pid &lt;named list&gt; | num_keys &lt;named list&gt; | tcps_active &lt;named list&gt; | open_fds &lt;named list&gt; | rpcs_active &lt;named list&gt; |\n",
       "|---|---|---|---|---|---|---|---|---|---|---|---|---|---|---|---|\n",
       "| localhost/127.0.0.1:54321 | TRUE | 1.639965e+12 | 4 | 2.5 | 0 | 1597408720 | 9534000 | 0 | 140055150592 | 210303451136 | 6082 | 0 | 0 | 40 | 0 |\n",
       "\n"
      ],
      "text/plain": [
       "  h2o                       healthy last_ping    num_cpus sys_load\n",
       "1 localhost/127.0.0.1:54321 TRUE    1.639965e+12 4        2.5     \n",
       "  mem_value_size free_mem   pojo_mem swap_mem free_disk    max_disk     pid \n",
       "1 0              1597408720 9534000  0        140055150592 210303451136 6082\n",
       "  num_keys tcps_active open_fds rpcs_active\n",
       "1 0        0           40       0          "
      ]
     },
     "metadata": {},
     "output_type": "display_data"
    }
   ],
   "source": [
    "h2o.clusterStatus()"
   ]
  },
  {
   "cell_type": "code",
   "execution_count": 10,
   "id": "a7b44ee8",
   "metadata": {},
   "outputs": [
    {
     "data": {
      "text/html": [
       "TRUE"
      ],
      "text/latex": [
       "TRUE"
      ],
      "text/markdown": [
       "TRUE"
      ],
      "text/plain": [
       "[1] TRUE"
      ]
     },
     "metadata": {},
     "output_type": "display_data"
    }
   ],
   "source": [
    "h2o.clusterIsUp()"
   ]
  },
  {
   "cell_type": "code",
   "execution_count": 11,
   "id": "4ab71acb",
   "metadata": {},
   "outputs": [
    {
     "name": "stdout",
     "output_type": "stream",
     "text": [
      "R is connected to the H2O cluster: \n",
      "    H2O cluster uptime:         10 minutes 12 seconds \n",
      "    H2O cluster timezone:       Etc/UTC \n",
      "    H2O data parsing timezone:  UTC \n",
      "    H2O cluster version:        3.34.0.6 \n",
      "    H2O cluster version age:    4 days  \n",
      "    H2O cluster name:           H2O_started_from_R_jovyan_jvi130 \n",
      "    H2O cluster total nodes:    1 \n",
      "    H2O cluster total memory:   1.49 GB \n",
      "    H2O cluster total cores:    4 \n",
      "    H2O cluster allowed cores:  4 \n",
      "    H2O cluster healthy:        TRUE \n",
      "    H2O Connection ip:          localhost \n",
      "    H2O Connection port:        54321 \n",
      "    H2O Connection proxy:       NA \n",
      "    H2O Internal Security:      FALSE \n",
      "    H2O API Extensions:         Amazon S3, XGBoost, Algos, AutoML, Core V3, TargetEncoder, Core V4 \n",
      "    R Version:                  R version 4.1.2 (2021-11-01) \n"
     ]
    }
   ],
   "source": [
    "h2o.clusterInfo()"
   ]
  },
  {
   "cell_type": "code",
   "execution_count": 13,
   "id": "8a5be8cb",
   "metadata": {},
   "outputs": [
    {
     "name": "stdout",
     "output_type": "stream",
     "text": [
      " Connection successful!\n",
      "\n",
      "R is connected to the H2O cluster: \n",
      "    H2O cluster uptime:         12 minutes 52 seconds \n",
      "    H2O cluster timezone:       Etc/UTC \n",
      "    H2O data parsing timezone:  UTC \n",
      "    H2O cluster version:        3.34.0.6 \n",
      "    H2O cluster version age:    4 days  \n",
      "    H2O cluster name:           H2O_started_from_R_jovyan_jvi130 \n",
      "    H2O cluster total nodes:    1 \n",
      "    H2O cluster total memory:   1.49 GB \n",
      "    H2O cluster total cores:    4 \n",
      "    H2O cluster allowed cores:  4 \n",
      "    H2O cluster healthy:        TRUE \n",
      "    H2O Connection ip:          localhost \n",
      "    H2O Connection port:        54321 \n",
      "    H2O Connection proxy:       NA \n",
      "    H2O Internal Security:      FALSE \n",
      "    H2O API Extensions:         Amazon S3, XGBoost, Algos, AutoML, Core V3, TargetEncoder, Core V4 \n",
      "    R Version:                  R version 4.1.2 (2021-11-01) \n",
      "\n"
     ]
    }
   ],
   "source": [
    "h2o.connect()"
   ]
  },
  {
   "cell_type": "code",
   "execution_count": 20,
   "id": "d2a0aac3",
   "metadata": {},
   "outputs": [
    {
     "data": {
      "text/html": [
       "<table class=\"dataframe\">\n",
       "<caption>A data.frame: 1 × 1</caption>\n",
       "<thead>\n",
       "\t<tr><th scope=col>key</th></tr>\n",
       "\t<tr><th scope=col>&lt;fct&gt;</th></tr>\n",
       "</thead>\n",
       "<tbody>\n",
       "\t<tr><td>temperaturedata.hex_sid_bd94_2</td></tr>\n",
       "</tbody>\n",
       "</table>\n"
      ],
      "text/latex": [
       "A data.frame: 1 × 1\n",
       "\\begin{tabular}{l}\n",
       " key\\\\\n",
       " <fct>\\\\\n",
       "\\hline\n",
       "\t temperaturedata.hex\\_sid\\_bd94\\_2\\\\\n",
       "\\end{tabular}\n"
      ],
      "text/markdown": [
       "\n",
       "A data.frame: 1 × 1\n",
       "\n",
       "| key &lt;fct&gt; |\n",
       "|---|\n",
       "| temperaturedata.hex_sid_bd94_2 |\n",
       "\n"
      ],
      "text/plain": [
       "  key                           \n",
       "1 temperaturedata.hex_sid_bd94_2"
      ]
     },
     "metadata": {},
     "output_type": "display_data"
    }
   ],
   "source": [
    "h2o.ls()"
   ]
  },
  {
   "cell_type": "code",
   "execution_count": 17,
   "id": "24148379",
   "metadata": {},
   "outputs": [
    {
     "name": "stdout",
     "output_type": "stream",
     "text": [
      "  |======================================================================| 100%\n"
     ]
    }
   ],
   "source": [
    "prostate = h2o.importFile(path = \"/home/jovyan/work/temperaturedata.csv\")"
   ]
  },
  {
   "cell_type": "code",
   "execution_count": 21,
   "id": "5d3accdc",
   "metadata": {},
   "outputs": [],
   "source": [
    "library(datasets)"
   ]
  },
  {
   "cell_type": "code",
   "execution_count": 31,
   "id": "ea47f466",
   "metadata": {},
   "outputs": [],
   "source": [
    "temp.hex = as.h2o(prostate)"
   ]
  },
  {
   "cell_type": "code",
   "execution_count": 32,
   "id": "10660796",
   "metadata": {},
   "outputs": [
    {
     "data": {
      "text/html": [
       "<table class=\"dataframe\">\n",
       "<caption>A data.frame: 5 × 1</caption>\n",
       "<thead>\n",
       "\t<tr><th scope=col>key</th></tr>\n",
       "\t<tr><th scope=col>&lt;fct&gt;</th></tr>\n",
       "</thead>\n",
       "<tbody>\n",
       "\t<tr><td>RTMP_sid_bd94_7               </td></tr>\n",
       "\t<tr><td>RTMP_sid_bd94_8               </td></tr>\n",
       "\t<tr><td>character__sid_bd94_4         </td></tr>\n",
       "\t<tr><td>prostate_sid_bd94_9           </td></tr>\n",
       "\t<tr><td>temperaturedata.hex_sid_bd94_2</td></tr>\n",
       "</tbody>\n",
       "</table>\n"
      ],
      "text/latex": [
       "A data.frame: 5 × 1\n",
       "\\begin{tabular}{l}\n",
       " key\\\\\n",
       " <fct>\\\\\n",
       "\\hline\n",
       "\t RTMP\\_sid\\_bd94\\_7               \\\\\n",
       "\t RTMP\\_sid\\_bd94\\_8               \\\\\n",
       "\t character\\_\\_sid\\_bd94\\_4         \\\\\n",
       "\t prostate\\_sid\\_bd94\\_9           \\\\\n",
       "\t temperaturedata.hex\\_sid\\_bd94\\_2\\\\\n",
       "\\end{tabular}\n"
      ],
      "text/markdown": [
       "\n",
       "A data.frame: 5 × 1\n",
       "\n",
       "| key &lt;fct&gt; |\n",
       "|---|\n",
       "| RTMP_sid_bd94_7                |\n",
       "| RTMP_sid_bd94_8                |\n",
       "| character__sid_bd94_4          |\n",
       "| prostate_sid_bd94_9            |\n",
       "| temperaturedata.hex_sid_bd94_2 |\n",
       "\n"
      ],
      "text/plain": [
       "  key                           \n",
       "1 RTMP_sid_bd94_7               \n",
       "2 RTMP_sid_bd94_8               \n",
       "3 character__sid_bd94_4         \n",
       "4 prostate_sid_bd94_9           \n",
       "5 temperaturedata.hex_sid_bd94_2"
      ]
     },
     "metadata": {},
     "output_type": "display_data"
    }
   ],
   "source": [
    "h2o.ls()"
   ]
  },
  {
   "cell_type": "code",
   "execution_count": 33,
   "id": "d06f0a04",
   "metadata": {},
   "outputs": [],
   "source": [
    "rand  <- h2o.runif(temp.hex, seed = 1234567)"
   ]
  },
  {
   "cell_type": "code",
   "execution_count": 34,
   "id": "a429e498",
   "metadata": {},
   "outputs": [],
   "source": [
    "train <- temp.hex[rand$rnd <= 0.8, ]\n",
    "valid <- temp.hex[rand$rnd > 0.8, ]"
   ]
  },
  {
   "cell_type": "code",
   "execution_count": 30,
   "id": "4c776d04",
   "metadata": {},
   "outputs": [
    {
     "data": {
      "text/plain": [
       "                 timeofcapture humidity hvaccycleon mode month temperature\n",
       "1 2021-03-13 18:45:00.000+0000    39.83       FALSE Hvac     3       19.97\n",
       "2 2021-03-13 18:30:00.000+0000    40.86       FALSE Hvac     3       19.55\n",
       "3 2021-03-13 18:15:00.000+0000    40.72       FALSE Hvac     3       19.42\n",
       "4 2021-03-13 18:00:00.000+0000    40.73       FALSE Hvac     3       19.73\n",
       "5 2021-03-13 13:00:00.000+0000    38.96       FALSE Hvac     3       19.85\n",
       "6 2021-03-13 12:45:00.000+0000    38.09       FALSE Hvac     3       20.14\n",
       "  timetotarget\n",
       "1            0\n",
       "2            0\n",
       "3            0\n",
       "4            0\n",
       "5            0\n",
       "6            0\n",
       "\n",
       "[39114 rows x 7 columns] "
      ]
     },
     "metadata": {},
     "output_type": "display_data"
    }
   ],
   "source": [
    "prostate"
   ]
  },
  {
   "cell_type": "code",
   "execution_count": 35,
   "id": "d81a3fac",
   "metadata": {},
   "outputs": [
    {
     "data": {
      "text/plain": [
       "                 timeofcapture humidity hvaccycleon mode month temperature\n",
       "1 2021-03-13 18:45:00.000+0000    39.83       FALSE Hvac     3       19.97\n",
       "2 2021-03-13 18:30:00.000+0000    40.86       FALSE Hvac     3       19.55\n",
       "3 2021-03-13 18:15:00.000+0000    40.72       FALSE Hvac     3       19.42\n",
       "4 2021-03-13 18:00:00.000+0000    40.73       FALSE Hvac     3       19.73\n",
       "5 2021-03-13 13:00:00.000+0000    38.96       FALSE Hvac     3       19.85\n",
       "6 2021-03-13 12:30:00.000+0000    38.70       FALSE Hvac     3       19.79\n",
       "  timetotarget\n",
       "1            0\n",
       "2            0\n",
       "3            0\n",
       "4            0\n",
       "5            0\n",
       "6            0\n",
       "\n",
       "[31423 rows x 7 columns] "
      ]
     },
     "metadata": {},
     "output_type": "display_data"
    }
   ],
   "source": [
    "train"
   ]
  },
  {
   "cell_type": "code",
   "execution_count": 36,
   "id": "5c6f29cc",
   "metadata": {},
   "outputs": [
    {
     "data": {
      "text/plain": [
       "                 timeofcapture humidity hvaccycleon mode month temperature\n",
       "1 2021-03-13 12:45:00.000+0000    38.09       FALSE Hvac     3       20.14\n",
       "2 2021-03-13 10:00:00.000+0000    39.64       FALSE Hvac     3       19.63\n",
       "3 2021-03-13 08:15:00.000+0000    39.68       FALSE Hvac     3       19.83\n",
       "4 2021-03-12 18:30:00.000+0000    39.67       FALSE Hvac     3       21.29\n",
       "5 2021-03-12 16:45:00.000+0000    40.20       FALSE Hvac     3       21.01\n",
       "6 2021-03-12 16:15:00.000+0000    40.28       FALSE Hvac     3       20.20\n",
       "  timetotarget\n",
       "1            0\n",
       "2            0\n",
       "3            0\n",
       "4            0\n",
       "5            0\n",
       "6            0\n",
       "\n",
       "[7691 rows x 7 columns] "
      ]
     },
     "metadata": {},
     "output_type": "display_data"
    }
   ],
   "source": [
    "valid"
   ]
  },
  {
   "cell_type": "code",
   "execution_count": 37,
   "id": "6bf3e451",
   "metadata": {},
   "outputs": [],
   "source": [
    "myX <- c('humidity')\n",
    "myY <- 'temperature'"
   ]
  },
  {
   "cell_type": "code",
   "execution_count": 38,
   "id": "8ed8c1bb",
   "metadata": {},
   "outputs": [
    {
     "name": "stdout",
     "output_type": "stream",
     "text": [
      "  |======================================================================| 100%\n"
     ]
    }
   ],
   "source": [
    "model <- h2o.gbm(x = myX, y = myY,\n",
    "                 training_frame = train, validation_frame = valid,\n",
    "                 score_each_iteration = T, \n",
    "                 ntrees = 100, max_depth = 5, learn_rate = 0.05,\n",
    "                 model_id = \"nicoranalysis\")"
   ]
  },
  {
   "cell_type": "code",
   "execution_count": 39,
   "id": "b28299d2",
   "metadata": {},
   "outputs": [
    {
     "name": "stdout",
     "output_type": "stream",
     "text": [
      "Model Details:\n",
      "==============\n",
      "\n",
      "H2ORegressionModel: gbm\n",
      "Model ID:  nicoranalysis \n",
      "Model Summary: \n",
      "  number_of_trees number_of_internal_trees model_size_in_bytes min_depth\n",
      "1             100                      100               42567         5\n",
      "  max_depth mean_depth min_leaves max_leaves mean_leaves\n",
      "1         5    5.00000         23         32    29.19000\n",
      "\n",
      "\n",
      "H2ORegressionMetrics: gbm\n",
      "** Reported on training data. **\n",
      "\n",
      "MSE:  1.841511\n",
      "RMSE:  1.357023\n",
      "MAE:  1.038314\n",
      "RMSLE:  0.0591552\n",
      "Mean Residual Deviance :  1.841511\n",
      "\n",
      "\n",
      "H2ORegressionMetrics: gbm\n",
      "** Reported on validation data. **\n",
      "\n",
      "MSE:  1.889375\n",
      "RMSE:  1.374545\n",
      "MAE:  1.050176\n",
      "RMSLE:  0.05998903\n",
      "Mean Residual Deviance :  1.889375\n",
      "\n",
      "\n",
      "\n"
     ]
    }
   ],
   "source": [
    "print(model)"
   ]
  },
  {
   "cell_type": "code",
   "execution_count": null,
   "id": "a666b571",
   "metadata": {},
   "outputs": [],
   "source": []
  }
 ],
 "metadata": {
  "kernelspec": {
   "display_name": "R",
   "language": "R",
   "name": "ir"
  },
  "language_info": {
   "codemirror_mode": "r",
   "file_extension": ".r",
   "mimetype": "text/x-r-source",
   "name": "R",
   "pygments_lexer": "r",
   "version": "4.1.2"
  }
 },
 "nbformat": 4,
 "nbformat_minor": 5
}
