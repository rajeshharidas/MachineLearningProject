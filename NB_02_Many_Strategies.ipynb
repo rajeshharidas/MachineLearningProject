{
 "cells": [
  {
   "cell_type": "markdown",
   "metadata": {},
   "source": [
    "# Working with two or many Strategies (Combination)"
   ]
  },
  {
   "cell_type": "markdown",
   "metadata": {},
   "source": [
    "## Introduction and Data"
   ]
  },
  {
   "cell_type": "markdown",
   "metadata": {},
   "source": [
    "Measures to reduce Trading Costs:\n",
    "- Busy Trading Hours\n",
    "- The right Granularity\n",
    "- Better/more complex Strategies with stronger Signals -> go/stay neutral if signals are weak"
   ]
  },
  {
   "cell_type": "code",
   "execution_count": 1,
   "metadata": {
    "scrolled": true
   },
   "outputs": [],
   "source": [
    "import pandas as pd\n",
    "import numpy as np\n",
    "import matplotlib.pyplot as plt\n",
    "plt.style.use(\"seaborn\")"
   ]
  },
  {
   "cell_type": "code",
   "execution_count": 2,
   "metadata": {},
   "outputs": [
    {
     "data": {
      "text/html": [
       "<div>\n",
       "<style scoped>\n",
       "    .dataframe tbody tr th:only-of-type {\n",
       "        vertical-align: middle;\n",
       "    }\n",
       "\n",
       "    .dataframe tbody tr th {\n",
       "        vertical-align: top;\n",
       "    }\n",
       "\n",
       "    .dataframe thead th {\n",
       "        text-align: right;\n",
       "    }\n",
       "</style>\n",
       "<table border=\"1\" class=\"dataframe\">\n",
       "  <thead>\n",
       "    <tr style=\"text-align: right;\">\n",
       "      <th></th>\n",
       "      <th>EURUSD</th>\n",
       "      <th>GBPUSD</th>\n",
       "      <th>EURAUD</th>\n",
       "    </tr>\n",
       "    <tr>\n",
       "      <th>time</th>\n",
       "      <th></th>\n",
       "      <th></th>\n",
       "      <th></th>\n",
       "    </tr>\n",
       "  </thead>\n",
       "  <tbody>\n",
       "    <tr>\n",
       "      <th>2019-01-01 22:00:00+00:00</th>\n",
       "      <td>1.146320</td>\n",
       "      <td>1.274770</td>\n",
       "      <td>1.626290</td>\n",
       "    </tr>\n",
       "    <tr>\n",
       "      <th>2019-01-01 22:20:00+00:00</th>\n",
       "      <td>1.146455</td>\n",
       "      <td>1.274740</td>\n",
       "      <td>1.626695</td>\n",
       "    </tr>\n",
       "    <tr>\n",
       "      <th>2019-01-01 22:40:00+00:00</th>\n",
       "      <td>1.146410</td>\n",
       "      <td>1.273980</td>\n",
       "      <td>1.627340</td>\n",
       "    </tr>\n",
       "    <tr>\n",
       "      <th>2019-01-01 23:00:00+00:00</th>\n",
       "      <td>1.146670</td>\n",
       "      <td>1.275030</td>\n",
       "      <td>1.626540</td>\n",
       "    </tr>\n",
       "    <tr>\n",
       "      <th>2019-01-01 23:20:00+00:00</th>\n",
       "      <td>1.146630</td>\n",
       "      <td>1.275150</td>\n",
       "      <td>1.627450</td>\n",
       "    </tr>\n",
       "    <tr>\n",
       "      <th>...</th>\n",
       "      <td>...</td>\n",
       "      <td>...</td>\n",
       "      <td>...</td>\n",
       "    </tr>\n",
       "    <tr>\n",
       "      <th>2020-08-30 22:20:00+00:00</th>\n",
       "      <td>1.190970</td>\n",
       "      <td>1.334830</td>\n",
       "      <td>1.616940</td>\n",
       "    </tr>\n",
       "    <tr>\n",
       "      <th>2020-08-30 22:40:00+00:00</th>\n",
       "      <td>1.190860</td>\n",
       "      <td>1.334515</td>\n",
       "      <td>1.617120</td>\n",
       "    </tr>\n",
       "    <tr>\n",
       "      <th>2020-08-30 23:00:00+00:00</th>\n",
       "      <td>1.190690</td>\n",
       "      <td>1.334905</td>\n",
       "      <td>1.617360</td>\n",
       "    </tr>\n",
       "    <tr>\n",
       "      <th>2020-08-30 23:20:00+00:00</th>\n",
       "      <td>1.190895</td>\n",
       "      <td>1.335140</td>\n",
       "      <td>1.617190</td>\n",
       "    </tr>\n",
       "    <tr>\n",
       "      <th>2020-08-30 23:40:00+00:00</th>\n",
       "      <td>1.191715</td>\n",
       "      <td>1.335490</td>\n",
       "      <td>1.616945</td>\n",
       "    </tr>\n",
       "  </tbody>\n",
       "</table>\n",
       "<p>31026 rows × 3 columns</p>\n",
       "</div>"
      ],
      "text/plain": [
       "                             EURUSD    GBPUSD    EURAUD\n",
       "time                                                   \n",
       "2019-01-01 22:00:00+00:00  1.146320  1.274770  1.626290\n",
       "2019-01-01 22:20:00+00:00  1.146455  1.274740  1.626695\n",
       "2019-01-01 22:40:00+00:00  1.146410  1.273980  1.627340\n",
       "2019-01-01 23:00:00+00:00  1.146670  1.275030  1.626540\n",
       "2019-01-01 23:20:00+00:00  1.146630  1.275150  1.627450\n",
       "...                             ...       ...       ...\n",
       "2020-08-30 22:20:00+00:00  1.190970  1.334830  1.616940\n",
       "2020-08-30 22:40:00+00:00  1.190860  1.334515  1.617120\n",
       "2020-08-30 23:00:00+00:00  1.190690  1.334905  1.617360\n",
       "2020-08-30 23:20:00+00:00  1.190895  1.335140  1.617190\n",
       "2020-08-30 23:40:00+00:00  1.191715  1.335490  1.616945\n",
       "\n",
       "[31026 rows x 3 columns]"
      ]
     },
     "execution_count": 2,
     "metadata": {},
     "output_type": "execute_result"
    }
   ],
   "source": [
    "df = pd.read_csv(\"twenty_minutes.csv\", parse_dates = [\"time\"], index_col = \"time\")\n",
    "df"
   ]
  },
  {
   "cell_type": "code",
   "execution_count": 3,
   "metadata": {},
   "outputs": [
    {
     "name": "stdout",
     "output_type": "stream",
     "text": [
      "<class 'pandas.core.frame.DataFrame'>\n",
      "DatetimeIndex: 31026 entries, 2019-01-01 22:00:00+00:00 to 2020-08-30 23:40:00+00:00\n",
      "Data columns (total 3 columns):\n",
      " #   Column  Non-Null Count  Dtype  \n",
      "---  ------  --------------  -----  \n",
      " 0   EURUSD  31017 non-null  float64\n",
      " 1   GBPUSD  31024 non-null  float64\n",
      " 2   EURAUD  31021 non-null  float64\n",
      "dtypes: float64(3)\n",
      "memory usage: 969.6 KB\n"
     ]
    }
   ],
   "source": [
    "df.info()"
   ]
  },
  {
   "cell_type": "code",
   "execution_count": null,
   "metadata": {},
   "outputs": [],
   "source": []
  },
  {
   "cell_type": "markdown",
   "metadata": {},
   "source": [
    "## SMA Strategy"
   ]
  },
  {
   "cell_type": "code",
   "execution_count": 4,
   "metadata": {},
   "outputs": [],
   "source": [
    "import SMABacktester as SMA"
   ]
  },
  {
   "cell_type": "code",
   "execution_count": 5,
   "metadata": {},
   "outputs": [],
   "source": [
    "start = \"2019-01-01\"\n",
    "end = \"2020-08-30\"\n",
    "symbol = \"EURUSD\"\n",
    "sma_s = 50\n",
    "sma_l = 150\n",
    "tc = 0.00007"
   ]
  },
  {
   "cell_type": "code",
   "execution_count": 7,
   "metadata": {},
   "outputs": [],
   "source": [
    "tester = SMA.SMABacktester(symbol, sma_s, sma_l, start, end, tc)"
   ]
  },
  {
   "cell_type": "code",
   "execution_count": 8,
   "metadata": {},
   "outputs": [
    {
     "data": {
      "text/plain": [
       "SMABacktester(symbol = EURUSD, SMA_S = 50, SMA_L = 150, start = 2019-01-01, end = 2020-08-30)"
      ]
     },
     "execution_count": 8,
     "metadata": {},
     "output_type": "execute_result"
    }
   ],
   "source": [
    "tester"
   ]
  },
  {
   "cell_type": "code",
   "execution_count": 9,
   "metadata": {},
   "outputs": [
    {
     "data": {
      "text/html": [
       "<div>\n",
       "<style scoped>\n",
       "    .dataframe tbody tr th:only-of-type {\n",
       "        vertical-align: middle;\n",
       "    }\n",
       "\n",
       "    .dataframe tbody tr th {\n",
       "        vertical-align: top;\n",
       "    }\n",
       "\n",
       "    .dataframe thead th {\n",
       "        text-align: right;\n",
       "    }\n",
       "</style>\n",
       "<table border=\"1\" class=\"dataframe\">\n",
       "  <thead>\n",
       "    <tr style=\"text-align: right;\">\n",
       "      <th></th>\n",
       "      <th>price</th>\n",
       "      <th>returns</th>\n",
       "      <th>SMA_S</th>\n",
       "      <th>SMA_L</th>\n",
       "    </tr>\n",
       "    <tr>\n",
       "      <th>time</th>\n",
       "      <th></th>\n",
       "      <th></th>\n",
       "      <th></th>\n",
       "      <th></th>\n",
       "    </tr>\n",
       "  </thead>\n",
       "  <tbody>\n",
       "    <tr>\n",
       "      <th>2019-01-01 22:00:00+00:00</th>\n",
       "      <td>1.146320</td>\n",
       "      <td>NaN</td>\n",
       "      <td>NaN</td>\n",
       "      <td>NaN</td>\n",
       "    </tr>\n",
       "    <tr>\n",
       "      <th>2019-01-01 22:20:00+00:00</th>\n",
       "      <td>1.146455</td>\n",
       "      <td>0.000118</td>\n",
       "      <td>NaN</td>\n",
       "      <td>NaN</td>\n",
       "    </tr>\n",
       "    <tr>\n",
       "      <th>2019-01-01 22:40:00+00:00</th>\n",
       "      <td>1.146410</td>\n",
       "      <td>-0.000039</td>\n",
       "      <td>NaN</td>\n",
       "      <td>NaN</td>\n",
       "    </tr>\n",
       "    <tr>\n",
       "      <th>2019-01-01 23:00:00+00:00</th>\n",
       "      <td>1.146670</td>\n",
       "      <td>0.000227</td>\n",
       "      <td>NaN</td>\n",
       "      <td>NaN</td>\n",
       "    </tr>\n",
       "    <tr>\n",
       "      <th>2019-01-01 23:20:00+00:00</th>\n",
       "      <td>1.146630</td>\n",
       "      <td>-0.000035</td>\n",
       "      <td>NaN</td>\n",
       "      <td>NaN</td>\n",
       "    </tr>\n",
       "    <tr>\n",
       "      <th>...</th>\n",
       "      <td>...</td>\n",
       "      <td>...</td>\n",
       "      <td>...</td>\n",
       "      <td>...</td>\n",
       "    </tr>\n",
       "    <tr>\n",
       "      <th>2020-08-30 22:20:00+00:00</th>\n",
       "      <td>1.190970</td>\n",
       "      <td>0.000382</td>\n",
       "      <td>1.189587</td>\n",
       "      <td>1.185039</td>\n",
       "    </tr>\n",
       "    <tr>\n",
       "      <th>2020-08-30 22:40:00+00:00</th>\n",
       "      <td>1.190860</td>\n",
       "      <td>-0.000092</td>\n",
       "      <td>1.189669</td>\n",
       "      <td>1.185091</td>\n",
       "    </tr>\n",
       "    <tr>\n",
       "      <th>2020-08-30 23:00:00+00:00</th>\n",
       "      <td>1.190690</td>\n",
       "      <td>-0.000143</td>\n",
       "      <td>1.189746</td>\n",
       "      <td>1.185141</td>\n",
       "    </tr>\n",
       "    <tr>\n",
       "      <th>2020-08-30 23:20:00+00:00</th>\n",
       "      <td>1.190895</td>\n",
       "      <td>0.000172</td>\n",
       "      <td>1.189829</td>\n",
       "      <td>1.185192</td>\n",
       "    </tr>\n",
       "    <tr>\n",
       "      <th>2020-08-30 23:40:00+00:00</th>\n",
       "      <td>1.191715</td>\n",
       "      <td>0.000688</td>\n",
       "      <td>1.189886</td>\n",
       "      <td>1.185250</td>\n",
       "    </tr>\n",
       "  </tbody>\n",
       "</table>\n",
       "<p>31017 rows × 4 columns</p>\n",
       "</div>"
      ],
      "text/plain": [
       "                              price   returns     SMA_S     SMA_L\n",
       "time                                                             \n",
       "2019-01-01 22:00:00+00:00  1.146320       NaN       NaN       NaN\n",
       "2019-01-01 22:20:00+00:00  1.146455  0.000118       NaN       NaN\n",
       "2019-01-01 22:40:00+00:00  1.146410 -0.000039       NaN       NaN\n",
       "2019-01-01 23:00:00+00:00  1.146670  0.000227       NaN       NaN\n",
       "2019-01-01 23:20:00+00:00  1.146630 -0.000035       NaN       NaN\n",
       "...                             ...       ...       ...       ...\n",
       "2020-08-30 22:20:00+00:00  1.190970  0.000382  1.189587  1.185039\n",
       "2020-08-30 22:40:00+00:00  1.190860 -0.000092  1.189669  1.185091\n",
       "2020-08-30 23:00:00+00:00  1.190690 -0.000143  1.189746  1.185141\n",
       "2020-08-30 23:20:00+00:00  1.190895  0.000172  1.189829  1.185192\n",
       "2020-08-30 23:40:00+00:00  1.191715  0.000688  1.189886  1.185250\n",
       "\n",
       "[31017 rows x 4 columns]"
      ]
     },
     "execution_count": 9,
     "metadata": {},
     "output_type": "execute_result"
    }
   ],
   "source": [
    "tester.data"
   ]
  },
  {
   "cell_type": "code",
   "execution_count": 10,
   "metadata": {},
   "outputs": [
    {
     "data": {
      "text/plain": [
       "(1.167425, 0.121157)"
      ]
     },
     "execution_count": 10,
     "metadata": {},
     "output_type": "execute_result"
    }
   ],
   "source": [
    "tester.test_strategy()"
   ]
  },
  {
   "cell_type": "code",
   "execution_count": 11,
   "metadata": {},
   "outputs": [
    {
     "data": {
      "image/png": "[encoded data removed]",
      "text/plain": [
       "<Figure size 864x576 with 1 Axes>"
      ]
     },
     "metadata": {},
     "output_type": "display_data"
    }
   ],
   "source": [
    "tester.plot_results()"
   ]
  },
  {
   "cell_type": "code",
   "execution_count": 12,
   "metadata": {},
   "outputs": [
    {
     "data": {
      "text/html": [
       "<div>\n",
       "<style scoped>\n",
       "    .dataframe tbody tr th:only-of-type {\n",
       "        vertical-align: middle;\n",
       "    }\n",
       "\n",
       "    .dataframe tbody tr th {\n",
       "        vertical-align: top;\n",
       "    }\n",
       "\n",
       "    .dataframe thead th {\n",
       "        text-align: right;\n",
       "    }\n",
       "</style>\n",
       "<table border=\"1\" class=\"dataframe\">\n",
       "  <thead>\n",
       "    <tr style=\"text-align: right;\">\n",
       "      <th></th>\n",
       "      <th>price</th>\n",
       "      <th>returns</th>\n",
       "      <th>SMA_S</th>\n",
       "      <th>SMA_L</th>\n",
       "      <th>position</th>\n",
       "      <th>strategy</th>\n",
       "      <th>trades</th>\n",
       "      <th>creturns</th>\n",
       "      <th>cstrategy</th>\n",
       "    </tr>\n",
       "    <tr>\n",
       "      <th>time</th>\n",
       "      <th></th>\n",
       "      <th></th>\n",
       "      <th></th>\n",
       "      <th></th>\n",
       "      <th></th>\n",
       "      <th></th>\n",
       "      <th></th>\n",
       "      <th></th>\n",
       "      <th></th>\n",
       "    </tr>\n",
       "  </thead>\n",
       "  <tbody>\n",
       "    <tr>\n",
       "      <th>2019-01-04 00:00:00+00:00</th>\n",
       "      <td>1.139460</td>\n",
       "      <td>0.000391</td>\n",
       "      <td>1.138221</td>\n",
       "      <td>1.139135</td>\n",
       "      <td>-1</td>\n",
       "      <td>-0.000391</td>\n",
       "      <td>0.0</td>\n",
       "      <td>1.000391</td>\n",
       "      <td>0.999609</td>\n",
       "    </tr>\n",
       "    <tr>\n",
       "      <th>2019-01-04 00:20:00+00:00</th>\n",
       "      <td>1.139845</td>\n",
       "      <td>0.000338</td>\n",
       "      <td>1.138279</td>\n",
       "      <td>1.139091</td>\n",
       "      <td>-1</td>\n",
       "      <td>-0.000338</td>\n",
       "      <td>0.0</td>\n",
       "      <td>1.000729</td>\n",
       "      <td>0.999272</td>\n",
       "    </tr>\n",
       "    <tr>\n",
       "      <th>2019-01-04 00:40:00+00:00</th>\n",
       "      <td>1.140560</td>\n",
       "      <td>0.000627</td>\n",
       "      <td>1.138358</td>\n",
       "      <td>1.139052</td>\n",
       "      <td>-1</td>\n",
       "      <td>-0.000627</td>\n",
       "      <td>0.0</td>\n",
       "      <td>1.001356</td>\n",
       "      <td>0.998645</td>\n",
       "    </tr>\n",
       "    <tr>\n",
       "      <th>2019-01-04 01:00:00+00:00</th>\n",
       "      <td>1.140545</td>\n",
       "      <td>-0.000013</td>\n",
       "      <td>1.138418</td>\n",
       "      <td>1.139011</td>\n",
       "      <td>-1</td>\n",
       "      <td>0.000013</td>\n",
       "      <td>0.0</td>\n",
       "      <td>1.001343</td>\n",
       "      <td>0.998659</td>\n",
       "    </tr>\n",
       "    <tr>\n",
       "      <th>2019-01-04 01:20:00+00:00</th>\n",
       "      <td>1.140750</td>\n",
       "      <td>0.000180</td>\n",
       "      <td>1.138473</td>\n",
       "      <td>1.138972</td>\n",
       "      <td>-1</td>\n",
       "      <td>-0.000180</td>\n",
       "      <td>0.0</td>\n",
       "      <td>1.001523</td>\n",
       "      <td>0.998479</td>\n",
       "    </tr>\n",
       "    <tr>\n",
       "      <th>...</th>\n",
       "      <td>...</td>\n",
       "      <td>...</td>\n",
       "      <td>...</td>\n",
       "      <td>...</td>\n",
       "      <td>...</td>\n",
       "      <td>...</td>\n",
       "      <td>...</td>\n",
       "      <td>...</td>\n",
       "      <td>...</td>\n",
       "    </tr>\n",
       "    <tr>\n",
       "      <th>2020-08-30 22:20:00+00:00</th>\n",
       "      <td>1.190970</td>\n",
       "      <td>0.000382</td>\n",
       "      <td>1.189587</td>\n",
       "      <td>1.185039</td>\n",
       "      <td>1</td>\n",
       "      <td>0.000382</td>\n",
       "      <td>0.0</td>\n",
       "      <td>1.045614</td>\n",
       "      <td>1.166695</td>\n",
       "    </tr>\n",
       "    <tr>\n",
       "      <th>2020-08-30 22:40:00+00:00</th>\n",
       "      <td>1.190860</td>\n",
       "      <td>-0.000092</td>\n",
       "      <td>1.189669</td>\n",
       "      <td>1.185091</td>\n",
       "      <td>1</td>\n",
       "      <td>-0.000092</td>\n",
       "      <td>0.0</td>\n",
       "      <td>1.045517</td>\n",
       "      <td>1.166587</td>\n",
       "    </tr>\n",
       "    <tr>\n",
       "      <th>2020-08-30 23:00:00+00:00</th>\n",
       "      <td>1.190690</td>\n",
       "      <td>-0.000143</td>\n",
       "      <td>1.189746</td>\n",
       "      <td>1.185141</td>\n",
       "      <td>1</td>\n",
       "      <td>-0.000143</td>\n",
       "      <td>0.0</td>\n",
       "      <td>1.045368</td>\n",
       "      <td>1.166421</td>\n",
       "    </tr>\n",
       "    <tr>\n",
       "      <th>2020-08-30 23:20:00+00:00</th>\n",
       "      <td>1.190895</td>\n",
       "      <td>0.000172</td>\n",
       "      <td>1.189829</td>\n",
       "      <td>1.185192</td>\n",
       "      <td>1</td>\n",
       "      <td>0.000172</td>\n",
       "      <td>0.0</td>\n",
       "      <td>1.045548</td>\n",
       "      <td>1.166622</td>\n",
       "    </tr>\n",
       "    <tr>\n",
       "      <th>2020-08-30 23:40:00+00:00</th>\n",
       "      <td>1.191715</td>\n",
       "      <td>0.000688</td>\n",
       "      <td>1.189886</td>\n",
       "      <td>1.185250</td>\n",
       "      <td>1</td>\n",
       "      <td>0.000688</td>\n",
       "      <td>0.0</td>\n",
       "      <td>1.046268</td>\n",
       "      <td>1.167425</td>\n",
       "    </tr>\n",
       "  </tbody>\n",
       "</table>\n",
       "<p>30867 rows × 9 columns</p>\n",
       "</div>"
      ],
      "text/plain": [
       "                              price   returns     SMA_S     SMA_L  position  \\\n",
       "time                                                                          \n",
       "2019-01-04 00:00:00+00:00  1.139460  0.000391  1.138221  1.139135        -1   \n",
       "2019-01-04 00:20:00+00:00  1.139845  0.000338  1.138279  1.139091        -1   \n",
       "2019-01-04 00:40:00+00:00  1.140560  0.000627  1.138358  1.139052        -1   \n",
       "2019-01-04 01:00:00+00:00  1.140545 -0.000013  1.138418  1.139011        -1   \n",
       "2019-01-04 01:20:00+00:00  1.140750  0.000180  1.138473  1.138972        -1   \n",
       "...                             ...       ...       ...       ...       ...   \n",
       "2020-08-30 22:20:00+00:00  1.190970  0.000382  1.189587  1.185039         1   \n",
       "2020-08-30 22:40:00+00:00  1.190860 -0.000092  1.189669  1.185091         1   \n",
       "2020-08-30 23:00:00+00:00  1.190690 -0.000143  1.189746  1.185141         1   \n",
       "2020-08-30 23:20:00+00:00  1.190895  0.000172  1.189829  1.185192         1   \n",
       "2020-08-30 23:40:00+00:00  1.191715  0.000688  1.189886  1.185250         1   \n",
       "\n",
       "                           strategy  trades  creturns  cstrategy  \n",
       "time                                                              \n",
       "2019-01-04 00:00:00+00:00 -0.000391     0.0  1.000391   0.999609  \n",
       "2019-01-04 00:20:00+00:00 -0.000338     0.0  1.000729   0.999272  \n",
       "2019-01-04 00:40:00+00:00 -0.000627     0.0  1.001356   0.998645  \n",
       "2019-01-04 01:00:00+00:00  0.000013     0.0  1.001343   0.998659  \n",
       "2019-01-04 01:20:00+00:00 -0.000180     0.0  1.001523   0.998479  \n",
       "...                             ...     ...       ...        ...  \n",
       "2020-08-30 22:20:00+00:00  0.000382     0.0  1.045614   1.166695  \n",
       "2020-08-30 22:40:00+00:00 -0.000092     0.0  1.045517   1.166587  \n",
       "2020-08-30 23:00:00+00:00 -0.000143     0.0  1.045368   1.166421  \n",
       "2020-08-30 23:20:00+00:00  0.000172     0.0  1.045548   1.166622  \n",
       "2020-08-30 23:40:00+00:00  0.000688     0.0  1.046268   1.167425  \n",
       "\n",
       "[30867 rows x 9 columns]"
      ]
     },
     "execution_count": 12,
     "metadata": {},
     "output_type": "execute_result"
    }
   ],
   "source": [
    "tester.results"
   ]
  },
  {
   "cell_type": "code",
   "execution_count": 13,
   "metadata": {},
   "outputs": [
    {
     "data": {
      "image/png": "[encoded data removed]",
      "text/plain": [
       "<Figure size 864x576 with 2 Axes>"
      ]
     },
     "metadata": {},
     "output_type": "display_data"
    }
   ],
   "source": [
    "tester.results[[\"SMA_S\", \"SMA_L\", \"position\"]].plot(secondary_y = \"position\", figsize = (12, 8))\n",
    "plt.show()"
   ]
  },
  {
   "cell_type": "code",
   "execution_count": 14,
   "metadata": {},
   "outputs": [
    {
     "data": {
      "text/plain": [
       "0.0    30650\n",
       "2.0      217\n",
       "Name: trades, dtype: int64"
      ]
     },
     "execution_count": 14,
     "metadata": {},
     "output_type": "execute_result"
    }
   ],
   "source": [
    "tester.results.trades.value_counts()"
   ]
  },
  {
   "cell_type": "code",
   "execution_count": null,
   "metadata": {},
   "outputs": [],
   "source": []
  },
  {
   "cell_type": "markdown",
   "metadata": {},
   "source": [
    "## Mean Reversion Strategy"
   ]
  },
  {
   "cell_type": "code",
   "execution_count": null,
   "metadata": {},
   "outputs": [],
   "source": [
    "import MeanRevBacktester as MeanRev"
   ]
  },
  {
   "cell_type": "code",
   "execution_count": null,
   "metadata": {},
   "outputs": [],
   "source": [
    "start = \"2019-01-01\"\n",
    "end = \"2020-08-30\"\n",
    "symbol = \"EURUSD\"\n",
    "sma = 75\n",
    "dev = 3\n",
    "tc = 0.00007"
   ]
  },
  {
   "cell_type": "code",
   "execution_count": null,
   "metadata": {},
   "outputs": [],
   "source": [
    "tester2 = MeanRev.MeanRevBacktester(symbol, sma, dev, start, end, tc)"
   ]
  },
  {
   "cell_type": "code",
   "execution_count": null,
   "metadata": {},
   "outputs": [],
   "source": [
    "tester2"
   ]
  },
  {
   "cell_type": "code",
   "execution_count": null,
   "metadata": {},
   "outputs": [],
   "source": [
    "tester2.data"
   ]
  },
  {
   "cell_type": "code",
   "execution_count": null,
   "metadata": {},
   "outputs": [],
   "source": [
    "tester2.test_strategy()"
   ]
  },
  {
   "cell_type": "code",
   "execution_count": null,
   "metadata": {},
   "outputs": [],
   "source": [
    "tester2.plot_results()"
   ]
  },
  {
   "cell_type": "code",
   "execution_count": null,
   "metadata": {},
   "outputs": [],
   "source": [
    "tester2.results"
   ]
  },
  {
   "cell_type": "code",
   "execution_count": null,
   "metadata": {},
   "outputs": [],
   "source": [
    "tester2.results.position.plot(figsize = (12, 8))\n",
    "plt.show()"
   ]
  },
  {
   "cell_type": "code",
   "execution_count": null,
   "metadata": {},
   "outputs": [],
   "source": [
    "tester2.results.trades.value_counts()"
   ]
  },
  {
   "cell_type": "code",
   "execution_count": null,
   "metadata": {},
   "outputs": [],
   "source": []
  },
  {
   "cell_type": "markdown",
   "metadata": {},
   "source": [
    "## Combining both Strategies"
   ]
  },
  {
   "cell_type": "markdown",
   "metadata": {},
   "source": [
    "__Goal:__ Stronger Signals / Identify Weak Signals"
   ]
  },
  {
   "cell_type": "markdown",
   "metadata": {},
   "source": [
    "__Two different Methods:__"
   ]
  },
  {
   "cell_type": "markdown",
   "metadata": {},
   "source": [
    "__Unanimous Signals__ (pro: strong signals | con: restrictive / doesn´t work with too many Indicators)\n",
    "- Go Long if all Signals are long\n",
    "- Go Short if all Signals are short\n",
    "- Go Neutral if Signals are nonunanimous "
   ]
  },
  {
   "cell_type": "markdown",
   "metadata": {},
   "source": [
    "__Majority / Tendency__ (pro: can be customized | con: more trades / weaker signals)\n",
    "- Go Long if at least two Signals are long (3 Signals Case)\n",
    "- Go Long if > [50%] of Signals are long and < [25%] of Signals are short (many Signals Case)"
   ]
  },
  {
   "cell_type": "code",
   "execution_count": null,
   "metadata": {},
   "outputs": [],
   "source": [
    "tester.results"
   ]
  },
  {
   "cell_type": "code",
   "execution_count": null,
   "metadata": {},
   "outputs": [],
   "source": [
    "tester2.results"
   ]
  },
  {
   "cell_type": "code",
   "execution_count": null,
   "metadata": {},
   "outputs": [],
   "source": [
    "comb = tester.results.loc[:, [\"returns\", \"position\"]].copy()"
   ]
  },
  {
   "cell_type": "code",
   "execution_count": null,
   "metadata": {},
   "outputs": [],
   "source": [
    "comb"
   ]
  },
  {
   "cell_type": "code",
   "execution_count": null,
   "metadata": {},
   "outputs": [],
   "source": [
    "comb.rename(columns = {\"position\":\"position_SMA\"}, inplace = True)"
   ]
  },
  {
   "cell_type": "code",
   "execution_count": null,
   "metadata": {},
   "outputs": [],
   "source": [
    "comb[\"position_MR\"] = tester2.results.position.astype(\"int\")"
   ]
  },
  {
   "cell_type": "code",
   "execution_count": null,
   "metadata": {},
   "outputs": [],
   "source": [
    "comb"
   ]
  },
  {
   "cell_type": "markdown",
   "metadata": {},
   "source": [
    "__Alternative 1: Unanimous Signals__"
   ]
  },
  {
   "cell_type": "code",
   "execution_count": null,
   "metadata": {},
   "outputs": [],
   "source": [
    "#comb[\"position_comb\"] = np.where(comb.position_MR == comb.position_SMA, comb.position_MR, 0)"
   ]
  },
  {
   "cell_type": "markdown",
   "metadata": {},
   "source": [
    "__Alternative 2: Majority / Tendency__"
   ]
  },
  {
   "cell_type": "code",
   "execution_count": null,
   "metadata": {},
   "outputs": [],
   "source": [
    "comb[\"position_comb\"] = np.sign(comb.position_MR + comb.position_SMA)"
   ]
  },
  {
   "cell_type": "code",
   "execution_count": null,
   "metadata": {},
   "outputs": [],
   "source": [
    "comb.head(60)"
   ]
  },
  {
   "cell_type": "code",
   "execution_count": null,
   "metadata": {},
   "outputs": [],
   "source": [
    "comb.position_comb.value_counts()"
   ]
  },
  {
   "cell_type": "code",
   "execution_count": null,
   "metadata": {},
   "outputs": [],
   "source": [
    "comb.position_comb.plot(figsize = (12, 8))\n",
    "plt.show()"
   ]
  },
  {
   "cell_type": "code",
   "execution_count": null,
   "metadata": {},
   "outputs": [],
   "source": []
  },
  {
   "cell_type": "markdown",
   "metadata": {},
   "source": [
    "## Taking into account busy trading hours"
   ]
  },
  {
   "cell_type": "code",
   "execution_count": null,
   "metadata": {},
   "outputs": [],
   "source": [
    "comb"
   ]
  },
  {
   "cell_type": "code",
   "execution_count": null,
   "metadata": {},
   "outputs": [],
   "source": [
    "comb[\"NYTime\"] = comb.index.tz_convert(\"America/New_York\")\n",
    "comb[\"hour\"] = comb.NYTime.dt.hour"
   ]
  },
  {
   "cell_type": "code",
   "execution_count": null,
   "metadata": {},
   "outputs": [],
   "source": [
    "comb.position_comb = np.where(comb.hour.between(2, 12), comb.position_comb, 0)"
   ]
  },
  {
   "cell_type": "code",
   "execution_count": null,
   "metadata": {},
   "outputs": [],
   "source": [
    "comb.position_comb.value_counts()"
   ]
  },
  {
   "cell_type": "code",
   "execution_count": null,
   "metadata": {},
   "outputs": [],
   "source": [
    "comb.position_comb.plot(figsize = (12, 8))\n",
    "plt.show()"
   ]
  },
  {
   "cell_type": "code",
   "execution_count": null,
   "metadata": {},
   "outputs": [],
   "source": [
    "comb.position_comb.loc[\"2020-08\"].plot(figsize = (12, 8))\n",
    "plt.show()"
   ]
  },
  {
   "cell_type": "code",
   "execution_count": null,
   "metadata": {},
   "outputs": [],
   "source": []
  },
  {
   "cell_type": "markdown",
   "metadata": {},
   "source": [
    "## Backtesting"
   ]
  },
  {
   "cell_type": "code",
   "execution_count": null,
   "metadata": {},
   "outputs": [],
   "source": [
    "comb"
   ]
  },
  {
   "cell_type": "code",
   "execution_count": null,
   "metadata": {},
   "outputs": [],
   "source": [
    "comb[\"strategy\"] = comb[\"position_comb\"].shift(1) * comb[\"returns\"]"
   ]
  },
  {
   "cell_type": "code",
   "execution_count": null,
   "metadata": {},
   "outputs": [],
   "source": [
    "comb.dropna(inplace=True)"
   ]
  },
  {
   "cell_type": "code",
   "execution_count": null,
   "metadata": {},
   "outputs": [],
   "source": [
    "comb[\"trades\"] = comb.position_comb.diff().fillna(0).abs()"
   ]
  },
  {
   "cell_type": "code",
   "execution_count": null,
   "metadata": {},
   "outputs": [],
   "source": [
    "tc = 0.000059"
   ]
  },
  {
   "cell_type": "code",
   "execution_count": null,
   "metadata": {},
   "outputs": [],
   "source": [
    "comb.strategy = comb.strategy - comb.trades * tc"
   ]
  },
  {
   "cell_type": "code",
   "execution_count": null,
   "metadata": {},
   "outputs": [],
   "source": [
    "comb[\"creturns\"] = comb[\"returns\"].cumsum().apply(np.exp)\n",
    "comb[\"cstrategy\"] = comb[\"strategy\"].cumsum().apply(np.exp)"
   ]
  },
  {
   "cell_type": "code",
   "execution_count": null,
   "metadata": {},
   "outputs": [],
   "source": [
    "comb[[\"creturns\", \"cstrategy\"]].plot(figsize = (12, 8), title = \"EUR/USD - SMA{} | SMA{}\".format(sma_s, sma_l), fontsize = 12)\n",
    "plt.legend(fontsize = 12)\n",
    "plt.show()"
   ]
  },
  {
   "cell_type": "code",
   "execution_count": null,
   "metadata": {},
   "outputs": [],
   "source": [
    "comb.trades.value_counts()"
   ]
  },
  {
   "cell_type": "code",
   "execution_count": null,
   "metadata": {},
   "outputs": [],
   "source": []
  },
  {
   "cell_type": "markdown",
   "metadata": {},
   "source": [
    "## Strategy Optimization"
   ]
  },
  {
   "cell_type": "code",
   "execution_count": null,
   "metadata": {},
   "outputs": [],
   "source": [
    "import SMABacktester as SMA\n",
    "import MeanRevBacktester as MeanRev"
   ]
  },
  {
   "cell_type": "code",
   "execution_count": null,
   "metadata": {},
   "outputs": [],
   "source": [
    "def optimal_strategy(parameters):\n",
    "    \n",
    "    start = \"2019-01-01\"\n",
    "    end = \"2020-08-30\"\n",
    "    symbol = \"EURUSD\"\n",
    "    tc = 0.000059\n",
    "    \n",
    "    # SMA\n",
    "    tester1 = SMA.SMABacktester(symbol, int(parameters[0]), int(parameters[1]), start, end, tc)\n",
    "    tester1.test_strategy()\n",
    "    \n",
    "    # Bollinger\n",
    "    tester2 = MeanRev.MeanRevBacktester(symbol,  int(parameters[2]),  int(parameters[3]), start, end, tc)\n",
    "    tester2.test_strategy()\n",
    "    \n",
    "    # Create comb\n",
    "    comb = tester1.results.loc[:, [\"returns\", \"position\"]].copy()\n",
    "    comb.rename(columns = {\"position\":\"position_SMA\"}, inplace = True)\n",
    "    comb[\"position_MR\"] = tester2.results.position\n",
    "    \n",
    "    # 2 Methods\n",
    "    #comb[\"position_comb\"] = np.where(comb.position_MR == comb.position_SMA, comb.position_MR, 0) \n",
    "    comb[\"position_comb\"] = np.sign(comb.position_MR + comb.position_SMA)\n",
    "    \n",
    "    # Busy Hours\n",
    "    comb[\"NYTime\"] = comb.index.tz_convert(\"America/New_York\")\n",
    "    comb[\"hour\"] = comb.NYTime.dt.hour\n",
    "    comb.position_comb = np.where(comb.hour.between(2, 12), comb.position_comb, 0)\n",
    "    \n",
    "    # Backtest\n",
    "    comb[\"strategy\"] = comb[\"position_comb\"].shift(1) * comb[\"returns\"]\n",
    "    comb.dropna(inplace=True)\n",
    "    comb[\"trades\"] = comb.position_comb.diff().fillna(0).abs()\n",
    "    comb.strategy = comb.strategy - comb.trades * tc\n",
    "    comb[\"creturns\"] = comb[\"returns\"].cumsum().apply(np.exp)\n",
    "    comb[\"cstrategy\"] = comb[\"strategy\"].cumsum().apply(np.exp)\n",
    "    \n",
    "    return -comb[\"cstrategy\"].iloc[-1] # negative absolute performance to be minimized"
   ]
  },
  {
   "cell_type": "code",
   "execution_count": null,
   "metadata": {},
   "outputs": [],
   "source": [
    "optimal_strategy((50, 150, 75, 3))"
   ]
  },
  {
   "cell_type": "code",
   "execution_count": null,
   "metadata": {},
   "outputs": [],
   "source": [
    "from scipy.optimize import minimize"
   ]
  },
  {
   "cell_type": "code",
   "execution_count": null,
   "metadata": {},
   "outputs": [],
   "source": [
    "bnds =  ((25, 75), (100, 200), (50, 100), (1, 5))\n",
    "bnds"
   ]
  },
  {
   "cell_type": "code",
   "execution_count": null,
   "metadata": {},
   "outputs": [],
   "source": [
    "start_par = (50, 150, 75, 3)"
   ]
  },
  {
   "cell_type": "code",
   "execution_count": null,
   "metadata": {},
   "outputs": [],
   "source": [
    "#run optimization based on function to be minimized, starting with start parameters\n",
    "opts = minimize(optimal_strategy, start_par, method = \"Powell\" , bounds = bnds)"
   ]
  },
  {
   "cell_type": "code",
   "execution_count": null,
   "metadata": {},
   "outputs": [],
   "source": [
    "opts"
   ]
  },
  {
   "cell_type": "code",
   "execution_count": null,
   "metadata": {},
   "outputs": [],
   "source": [
    "optimal_strategy(opts.x)"
   ]
  },
  {
   "cell_type": "code",
   "execution_count": null,
   "metadata": {},
   "outputs": [],
   "source": []
  }
 ],
 "metadata": {
  "kernelspec": {
   "display_name": "Python 3 (ipykernel)",
   "language": "python",
   "name": "python3"
  },
  "language_info": {
   "codemirror_mode": {
    "name": "ipython",
    "version": 3
   },
   "file_extension": ".py",
   "mimetype": "text/x-python",
   "name": "python",
   "nbconvert_exporter": "python",
   "pygments_lexer": "ipython3",
   "version": "3.9.7"
  }
 },
 "nbformat": 4,
 "nbformat_minor": 4
}
